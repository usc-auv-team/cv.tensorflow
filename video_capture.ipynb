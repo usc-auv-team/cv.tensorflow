{
 "cells": [
  {
   "cell_type": "markdown",
   "metadata": {},
   "source": [
    "# Video Capture Demo"
   ]
  },
  {
   "cell_type": "markdown",
   "metadata": {},
   "source": [
    "# Imports"
   ]
  },
  {
   "cell_type": "code",
   "execution_count": null,
   "metadata": {
    "scrolled": true
   },
   "outputs": [],
   "source": [
    "import numpy as np\n",
    "import os\n",
    "import sys\n",
    "\n",
    "import cv2\n",
    "from IPython import display\n",
    "import signal\n",
    "from matplotlib import pyplot as plt\n",
    "from PIL import Image"
   ]
  },
  {
   "cell_type": "markdown",
   "metadata": {},
   "source": [
    "## Env setup"
   ]
  },
  {
   "cell_type": "code",
   "execution_count": null,
   "metadata": {},
   "outputs": [],
   "source": [
    "# This is needed to display the images.\n",
    "%matplotlib inline\n",
    "\n",
    "# This is needed since the notebook is stored in the object_detection folder.\n",
    "sys.path.append(\"..\")"
   ]
  },
  {
   "cell_type": "markdown",
   "metadata": {},
   "source": [
    "## Helper code"
   ]
  },
  {
   "cell_type": "code",
   "execution_count": null,
   "metadata": {},
   "outputs": [],
   "source": [
    "def load_image_into_numpy_array(image):\n",
    "  (im_width, im_height) = image.size\n",
    "  return np.array(image.getdata()).reshape(\n",
    "      (im_height, im_width, 3)).astype(np.uint8)\n",
    "\n",
    "def load_frame_into_numpy_array(frame):\n",
    "    return np.array(frame).astype(np.uint8)"
   ]
  },
  {
   "cell_type": "markdown",
   "metadata": {},
   "source": [
    "# Capture"
   ]
  },
  {
   "cell_type": "code",
   "execution_count": null,
   "metadata": {},
   "outputs": [],
   "source": [
    "# Size, in inches, of the output images.\n",
    "IMAGE_SIZE = (16, 12)"
   ]
  },
  {
   "cell_type": "code",
   "execution_count": null,
   "metadata": {},
   "outputs": [],
   "source": [
    "def signal_handler(signal, frame):\n",
    "    # KeyboardInterrupt detected, exiting\n",
    "    global is_interrupted\n",
    "    is_interrupted = True"
   ]
  },
  {
   "cell_type": "code",
   "execution_count": null,
   "metadata": {
    "scrolled": false
   },
   "outputs": [],
   "source": [
    "def capture_video():\n",
    "    vc = cv2.VideoCapture(0 + cv2.CAP_DC1394)\n",
    "    vc.set(cv2.CAP_PROP_MODE, cv2.CAP_MODE_YUYV)\n",
    "    vc.set(cv2.CAP_PROP_FPS, 1.875)\n",
    "    vc.set(cv2.CAP_PROP_CONVERT_RGB, 1)\n",
    "    vc.set(cv2.CAP_PROP_ISO_SPEED, 400)\n",
    "    \n",
    "    print(vc.get(cv2.CAP_PROP_FRAME_WIDTH))\n",
    "    print(vc.get(cv2.CAP_PROP_FRAME_HEIGHT))\n",
    "    print(vc.get(cv2.CAP_PROP_MODE))\n",
    "    print(vc.get(cv2.CAP_PROP_FPS))\n",
    "    print(vc.get(cv2.CAP_PROP_CONVERT_RGB))\n",
    "    print(vc.get(cv2.CAP_PROP_ISO_SPEED))\n",
    "    \n",
    "#     vc.release()\n",
    "#     return\n",
    "    # fourcc = cv2.VideoWriter_fourcc(*'MP4V')\n",
    "    # out = cv2.VideoWriter('/home/jaimin/Workspace/Wet Tests/output.MP4',fourcc, vc.get(cv2.CAP_PROP_FPS), (int(vc.get(cv2.CAP_PROP_FRAME_WIDTH)), int(vc.get(cv2.CAP_PROP_FRAME_HEIGHT))))\n",
    "\n",
    "    # Put the code in try-except statements\n",
    "    # Catch the keyboard exception and \n",
    "    # release the camera device and \n",
    "    # continue with the rest of code.\n",
    "    try:\n",
    "        while(vc.isOpened()):\n",
    "            # Capture frame-by-frame\n",
    "        #             if vc.grab():\n",
    "        #                 ret, frame = vc.retrieve()\n",
    "                ret, frame = vc.read()\n",
    "                if not ret:\n",
    "                    # Release the Video Device if ret is false\n",
    "                    vc.release()\n",
    "                    # Message to be displayed after releasing the device\n",
    "                    print \"Released Video Resource\"\n",
    "                    break\n",
    "                # Convert the image from OpenCV BGR format to matplotlib RGB format\n",
    "                # to display the image\n",
    "                # frame = cv2.cvtColor(frame, cv2.COLOR_BGR2RGB)\n",
    "                # the array based representation of the image will be used later in order to prepare the\n",
    "                # result image with boxes and labels on it.\n",
    "                image_np = load_frame_into_numpy_array(frame)\n",
    "                plt.figure(figsize=IMAGE_SIZE)\n",
    "                # Turn off the axis\n",
    "                plt.axis('off')\n",
    "                # Title of the window\n",
    "                plt.title(\"Input Stream\")\n",
    "                # Display the frame\n",
    "                plt.imshow(image_np)\n",
    "                plt.show()\n",
    "                cv2.imshow(frame)\n",
    "\n",
    "                # out.write(cv2.cvtColor(image_np, cv2.COLOR_RGB2BGR))\n",
    "\n",
    "                # Display the frame until new frame is available\n",
    "                display.clear_output(wait=True)\n",
    "\n",
    "    except KeyboardInterrupt:\n",
    "        # Release the Video Device\n",
    "        vc.release()\n",
    "        # Message to be displayed after releasing the device\n",
    "        print \"Released Video Resource\"\n",
    "\n",
    "    # out.release()\n",
    "    cv2.destroyAllWindows()\n",
    "    print \"Released Output Video\""
   ]
  },
  {
   "cell_type": "code",
   "execution_count": null,
   "metadata": {},
   "outputs": [],
   "source": [
    "capture_video()"
   ]
  },
  {
   "cell_type": "code",
   "execution_count": null,
   "metadata": {},
   "outputs": [],
   "source": []
  }
 ],
 "metadata": {
  "kernelspec": {
   "display_name": "Python 2",
   "language": "python",
   "name": "python2"
  },
  "language_info": {
   "codemirror_mode": {
    "name": "ipython",
    "version": 2
   },
   "file_extension": ".py",
   "mimetype": "text/x-python",
   "name": "python",
   "nbconvert_exporter": "python",
   "pygments_lexer": "ipython2",
   "version": "2.7.12"
  }
 },
 "nbformat": 4,
 "nbformat_minor": 2
}
